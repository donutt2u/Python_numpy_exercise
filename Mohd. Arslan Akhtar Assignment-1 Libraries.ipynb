{
 "cells": [
  {
   "cell_type": "markdown",
   "id": "8516b2cc",
   "metadata": {},
   "source": [
    "# NumPy exercises"
   ]
  },
  {
   "cell_type": "markdown",
   "id": "a07378c9",
   "metadata": {},
   "source": [
    "# 1.\tCreate a numpy array of size 10, filled with zeros"
   ]
  },
  {
   "cell_type": "code",
   "execution_count": null,
   "id": "09a0aa9e",
   "metadata": {},
   "outputs": [],
   "source": [
    "import numpy as np\n",
    "\n",
    "# Create a NumPy array of size 10, filled with zeros\n",
    "zeros_array = np.zeros(10)\n",
    "\n",
    "print(zeros_array)"
   ]
  },
  {
   "cell_type": "markdown",
   "id": "2a61f856",
   "metadata": {},
   "source": [
    "# 2.\tCreate a numpy array with values ranging from 10 to 49 and set its datatype to float"
   ]
  },
  {
   "cell_type": "code",
   "execution_count": null,
   "id": "62be311d",
   "metadata": {},
   "outputs": [],
   "source": [
    "import numpy as np\n",
    "\n",
    "# Create a NumPy array with values ranging from 10 to 49 and set dtype to float\n",
    "float_array = np.arange(10, 50, dtype=float)\n",
    "\n",
    "print(float_array)\n"
   ]
  },
  {
   "cell_type": "markdown",
   "id": "e91f32bc",
   "metadata": {},
   "source": [
    "# 3.\tCreate a numpy matrix of 2*2 integers, filled with ones."
   ]
  },
  {
   "cell_type": "code",
   "execution_count": null,
   "id": "f683bde1",
   "metadata": {},
   "outputs": [],
   "source": [
    "import numpy as np\n",
    "\n",
    "# Create a NumPy matrix of 2x2 integers, filled with ones\n",
    "ones_matrix = np.full((2, 2), 1, dtype=int)\n",
    "\n",
    "print(ones_matrix)\n"
   ]
  },
  {
   "cell_type": "markdown",
   "id": "94b8d938",
   "metadata": {},
   "source": [
    "# 4.\tCreate a numpy matrix of 3*2 float numbers, filled with ones."
   ]
  },
  {
   "cell_type": "code",
   "execution_count": null,
   "id": "28c90adb",
   "metadata": {},
   "outputs": [],
   "source": [
    "import numpy as np\n",
    "\n",
    "# Create a NumPy matrix of 3x2 float numbers, filled with ones\n",
    "ones_matrix_float = np.full((3, 2), 1, dtype=float)\n",
    "\n",
    "print(ones_matrix_float)"
   ]
  },
  {
   "cell_type": "markdown",
   "id": "36a9816b",
   "metadata": {},
   "source": [
    "# 5.\tGiven the X numpy array, create a new numpy array with the same shape and type as X, filled with ones."
   ]
  },
  {
   "cell_type": "code",
   "execution_count": null,
   "id": "e6c1d378",
   "metadata": {},
   "outputs": [],
   "source": [
    "import numpy as np\n",
    "\n",
    "# Assuming you have an array X\n",
    "X = np.array([[1, 2, 3], [4, 5, 6]])\n",
    "\n",
    "# Create a new array with the same shape and type as X, filled with ones\n",
    "ones_like_X = np.ones_like(X)\n",
    "\n",
    "print(ones_like_X)"
   ]
  },
  {
   "cell_type": "markdown",
   "id": "881ed460",
   "metadata": {},
   "source": [
    "# 6.\tGiven the X numpy matrix, create a new numpy matrix with the same shape and type as X, filled with zeros"
   ]
  },
  {
   "cell_type": "code",
   "execution_count": null,
   "id": "b5eeecd3",
   "metadata": {},
   "outputs": [],
   "source": [
    "import numpy as np\n",
    "\n",
    "# Assuming you have a matrix X\n",
    "X = np.array([[1, 2, 3], [4, 5, 6]])\n",
    "\n",
    "# Create a new matrix with the same shape and type as X, filled with zeros\n",
    "zeros_like_X = np.zeros_like(X)\n",
    "\n",
    "print(zeros_like_X)\n"
   ]
  },
  {
   "cell_type": "markdown",
   "id": "13b5697f",
   "metadata": {},
   "source": [
    "# 7.\tCreate a numpy matrix of 4*4 integers, filled with fives."
   ]
  },
  {
   "cell_type": "code",
   "execution_count": null,
   "id": "4c317418",
   "metadata": {},
   "outputs": [],
   "source": [
    "import numpy as np\n",
    "\n",
    "# Create a NumPy matrix of 4x4 integers, filled with fives\n",
    "matrix_filled_with_fives = np.full((4, 4), 5, dtype=int)\n",
    "\n",
    "print(matrix_filled_with_fives)\n"
   ]
  },
  {
   "cell_type": "markdown",
   "id": "9aa86b15",
   "metadata": {},
   "source": [
    "# 8.\tGiven the X numpy matrix, create a new numpy matrix with the same shape and type as X, filled with sevens."
   ]
  },
  {
   "cell_type": "code",
   "execution_count": null,
   "id": "36d6dfba",
   "metadata": {},
   "outputs": [],
   "source": [
    "import numpy as np\n",
    "\n",
    "# Assuming you have a matrix X\n",
    "X = np.array([[1, 2, 3], [4, 5, 6]])\n",
    "\n",
    "# Create a new matrix with the same shape and type as X, filled with sevens\n",
    "sevens_like_X = np.full_like(X, 7)\n",
    "\n",
    "print(sevens_like_X)\n"
   ]
  },
  {
   "cell_type": "markdown",
   "id": "8212ef67",
   "metadata": {},
   "source": [
    "# 9.\tCreate a 3 * 3 identity numpy matrix with ones on the diagonal and zeros elsewhere."
   ]
  },
  {
   "cell_type": "code",
   "execution_count": null,
   "id": "296fef37",
   "metadata": {},
   "outputs": [],
   "source": [
    "import numpy as np\n",
    "\n",
    "# Create a 3x3 identity matrix using np.full\n",
    "identity_matrix = np.full((3, 3), 0)\n",
    "np.fill_diagonal(identity_matrix, 1)\n",
    "\n",
    "print(identity_matrix)"
   ]
  },
  {
   "cell_type": "markdown",
   "id": "0d7a9dd4",
   "metadata": {},
   "source": [
    "# 10.\tCreate a numpy array, filled with 3 random integers between 1 & 10"
   ]
  },
  {
   "cell_type": "code",
   "execution_count": null,
   "id": "a0fc4287",
   "metadata": {},
   "outputs": [],
   "source": [
    "import numpy as np\n",
    "\n",
    "# Create a numpy array with 3 random integer values between 1 and 10\n",
    "random_array = np.random.randint(1, 11, size=3)\n",
    "\n",
    "print(random_array)\n"
   ]
  },
  {
   "cell_type": "markdown",
   "id": "c0dd1da6",
   "metadata": {},
   "source": [
    "# 11.\tCreate a 3 * 3 * 3 numpy matrix, filled with random float values."
   ]
  },
  {
   "cell_type": "code",
   "execution_count": null,
   "id": "b404ad0c",
   "metadata": {},
   "outputs": [],
   "source": [
    "import numpy as np\n",
    "\n",
    "# Create a 3x3x3 numpy matrix filled with random float values\n",
    "random_float_matrix = np.random.rand(3, 3, 3)\n",
    "\n",
    "print(random_float_matrix)"
   ]
  },
  {
   "cell_type": "markdown",
   "id": "def50cc0",
   "metadata": {},
   "source": [
    "# 12.\tCreate a numpy array with numbers from 1 to 10"
   ]
  },
  {
   "cell_type": "code",
   "execution_count": null,
   "id": "e8add02a",
   "metadata": {},
   "outputs": [],
   "source": [
    "import numpy as np\n",
    "\n",
    "# Create a NumPy array with numbers from 1 to 10\n",
    "array_from_1_to_10 = np.arange(1, 11)\n",
    "\n",
    "print(array_from_1_to_10)\n"
   ]
  },
  {
   "cell_type": "markdown",
   "id": "5e719954",
   "metadata": {},
   "source": [
    "# 13.\tCreate a numpy array with the odd numbers between 1 to 10"
   ]
  },
  {
   "cell_type": "code",
   "execution_count": null,
   "id": "54096bb2",
   "metadata": {},
   "outputs": [],
   "source": [
    "import numpy as np\n",
    "\n",
    "# Create a NumPy array with odd numbers from 1 to 10\n",
    "odd_array = np.arange(1, 11, step=2)\n",
    "\n",
    "print(odd_array)"
   ]
  },
  {
   "cell_type": "markdown",
   "id": "d7f4286d",
   "metadata": {},
   "source": [
    "# 14.\tCreate a numpy array with numbers from 1 to 10, in descending order."
   ]
  },
  {
   "cell_type": "code",
   "execution_count": null,
   "id": "008d8733",
   "metadata": {},
   "outputs": [],
   "source": [
    "import numpy as np\n",
    "\n",
    "# Create a NumPy array with numbers from 1 to 10 in descending order\n",
    "descending_array = np.arange(10, 0, -1)\n",
    "\n",
    "print(descending_array)\n"
   ]
  },
  {
   "cell_type": "markdown",
   "id": "ff29b2b4",
   "metadata": {},
   "source": [
    "# 15.\tCreate a 3*3 numpy matrix, filled with values ranging from 0 to 8"
   ]
  },
  {
   "cell_type": "code",
   "execution_count": null,
   "id": "4aba4e61",
   "metadata": {},
   "outputs": [],
   "source": [
    "# import numpy as np\n",
    "\n",
    "# Create a 3x3 numpy matrix with values ranging from 0 to 8\n",
    "matrix_3x3 = np.arange(9).reshape(3, 3)\n",
    "\n",
    "print(matrix_3x3)\n"
   ]
  },
  {
   "cell_type": "markdown",
   "id": "d51cc308",
   "metadata": {},
   "source": [
    "# Array indexing:"
   ]
  },
  {
   "cell_type": "markdown",
   "id": "314d4400",
   "metadata": {},
   "source": [
    "# 1.\tGiven the X numpy array, show its first element\n",
    "\n",
    "X = np.array(['A','B','C','D','E'])\n"
   ]
  },
  {
   "cell_type": "code",
   "execution_count": null,
   "id": "6498096c",
   "metadata": {},
   "outputs": [],
   "source": [
    "import numpy as np\n",
    "\n",
    "# Given array X\n",
    "X = np.array(['A', 'B', 'C', 'D', 'E'])\n",
    "\n",
    "# Show the first element of the array\n",
    "first_element = X[0]\n",
    "\n",
    "print(first_element)\n"
   ]
  },
  {
   "cell_type": "markdown",
   "id": "f6dd9891",
   "metadata": {},
   "source": [
    "# 2.\tGiven the X numpy array, show its last element\n",
    "\n",
    "X = np.array(['A','B','C','D','E'])\n"
   ]
  },
  {
   "cell_type": "code",
   "execution_count": null,
   "id": "9878803d",
   "metadata": {},
   "outputs": [],
   "source": [
    "import numpy as np\n",
    "\n",
    "# Given array X\n",
    "X = np.array(['A', 'B', 'C', 'D', 'E'])\n",
    "\n",
    "# Show the last element of the array\n",
    "last_element = X[-1]\n",
    "\n",
    "print(last_element)"
   ]
  },
  {
   "cell_type": "markdown",
   "id": "c3e6154a",
   "metadata": {},
   "source": [
    "# 3.\tGiven the X numpy array, show its first three elements\n",
    "\n",
    "X = np.array(['A','B','C','D','E'])\n"
   ]
  },
  {
   "cell_type": "code",
   "execution_count": null,
   "id": "c03b295a",
   "metadata": {},
   "outputs": [],
   "source": [
    "import numpy as np\n",
    "\n",
    "# Given array X\n",
    "X = np.array(['A', 'B', 'C', 'D', 'E'])\n",
    "\n",
    "# Show the first three elements of the array\n",
    "first_three_elements = X[:3]\n",
    "\n",
    "print(first_three_elements)\n"
   ]
  },
  {
   "cell_type": "markdown",
   "id": "0522c779",
   "metadata": {},
   "source": [
    "# 4.\tGiven the X numpy array, show all middle elements\n",
    "\n",
    "X = np.array(['A','B','C','D','E'])\n"
   ]
  },
  {
   "cell_type": "code",
   "execution_count": null,
   "id": "96685625",
   "metadata": {},
   "outputs": [],
   "source": [
    "import numpy as np\n",
    "\n",
    "# Given array X\n",
    "X = np.array(['A', 'B', 'C', 'D', 'E'])\n",
    "\n",
    "# Show all middle elements of the array\n",
    "middle_elements = X[1:-1]\n",
    "\n",
    "print(middle_elements)\n"
   ]
  },
  {
   "cell_type": "markdown",
   "id": "418dea58",
   "metadata": {},
   "source": [
    "# 5.\tGiven the X numpy array, show the elements in reverse position.\n",
    "\n",
    "X = np.array(['A','B','C','D','E'])\n"
   ]
  },
  {
   "cell_type": "code",
   "execution_count": null,
   "id": "f15490be",
   "metadata": {},
   "outputs": [],
   "source": [
    "import numpy as np\n",
    "\n",
    "# Given array X\n",
    "X = np.array(['A', 'B', 'C', 'D', 'E'])\n",
    "\n",
    "# Show the elements in reverse position using numpy.flip\n",
    "reverse_elements = np.flip(X)\n",
    "\n",
    "print(reverse_elements)\n"
   ]
  },
  {
   "cell_type": "markdown",
   "id": "5ef91964",
   "metadata": {},
   "source": [
    "# 6.\tGiven the X numpy array, show the elements in an odd position.\n",
    "\n",
    "X = np.array(['A','B','C','D','E'])\n"
   ]
  },
  {
   "cell_type": "code",
   "execution_count": null,
   "id": "947465bb",
   "metadata": {},
   "outputs": [],
   "source": [
    "import numpy as np\n",
    "\n",
    "# Given array X\n",
    "X = np.array(['A', 'B', 'C', 'D', 'E'])\n",
    "\n",
    "# Show the elements in odd positions\n",
    "odd_position_elements = X[0::2]\n",
    "\n",
    "print(odd_position_elements)\n"
   ]
  },
  {
   "cell_type": "markdown",
   "id": "1a80f313",
   "metadata": {},
   "source": [
    "# 7.\tGiven the X numpy matrix, show the first row’s elements.\n",
    "\n",
    "X = np.array([\n",
    "    [1,   2,  3,  4],\n",
    "    [5,   6,  7,  8],\n",
    "    [9,  10, 11, 12],\n",
    "    [13, 14, 15, 16]\n",
    "])"
   ]
  },
  {
   "cell_type": "code",
   "execution_count": null,
   "id": "7b36a9e8",
   "metadata": {},
   "outputs": [],
   "source": [
    "import numpy as np\n",
    "\n",
    "# Given matrix X\n",
    "X = np.array([\n",
    "    [1,   2,  3,  4],\n",
    "    [5,   6,  7,  8],\n",
    "    [9,  10, 11, 12],\n",
    "    [13, 14, 15, 16]\n",
    "])\n",
    "\n",
    "# Show the elements of the first row\n",
    "first_row_elements = X[0, :]\n",
    "\n",
    "print(first_row_elements)\n"
   ]
  },
  {
   "cell_type": "markdown",
   "id": "9c4a2d8b",
   "metadata": {},
   "source": [
    "# 8.\tGiven the X numpy matrix, show the last row elements.\n",
    "\n",
    "X = np.array([\n",
    "    [1,   2,  3,  4],\n",
    "    [5,   6,  7,  8],\n",
    "    [9,  10, 11, 12],\n",
    "    [13, 14, 15, 16]\n",
    "])\n"
   ]
  },
  {
   "cell_type": "code",
   "execution_count": null,
   "id": "8453abf6",
   "metadata": {},
   "outputs": [],
   "source": [
    "import numpy as np\n",
    "\n",
    "# Given matrix X\n",
    "X = np.array([\n",
    "    [1,   2,  3,  4],\n",
    "    [5,   6,  7,  8],\n",
    "    [9,  10, 11, 12],\n",
    "    [13, 14, 15, 16]\n",
    "])\n",
    "\n",
    "# Show the elements of the first row\n",
    "first_row_elements = X[-1, :]\n",
    "\n",
    "print(first_row_elements)"
   ]
  },
  {
   "cell_type": "markdown",
   "id": "724d0518",
   "metadata": {},
   "source": [
    "# 9.\tGiven the X numpy matrix, show the first element on first row\n",
    "\n",
    "X = np.array([\n",
    "    [1, 2, 3, 4],\n",
    "    [5, 6, 7, 8],\n",
    "    [9, 10, 11, 12],\n",
    "    [13, 14, 15, 16]\n",
    "])\n"
   ]
  },
  {
   "cell_type": "code",
   "execution_count": null,
   "id": "adf23e5c",
   "metadata": {},
   "outputs": [],
   "source": [
    "import numpy as np\n",
    "\n",
    "# Given matrix X\n",
    "X = np.array([\n",
    "    [1, 2, 3, 4],\n",
    "    [5, 6, 7, 8],\n",
    "    [9, 10, 11, 12],\n",
    "    [13, 14, 15, 16]\n",
    "])\n",
    "\n",
    "# Show the first element on the first row\n",
    "first_element_first_row = X[0, 0]\n",
    "\n",
    "print(first_element_first_row)\n"
   ]
  },
  {
   "cell_type": "markdown",
   "id": "06b0049d",
   "metadata": {},
   "source": [
    "# 10.\tGiven the X numpy matrix, show the last element on last row.\n",
    "\n",
    "X = np.array([\n",
    "    [1,   2,  3,  4],\n",
    "    [5,   6,  7,  8],\n",
    "    [9,  10, 11, 12],\n",
    "    [13, 14, 15, 16]\n",
    "])\n",
    "\n"
   ]
  },
  {
   "cell_type": "code",
   "execution_count": null,
   "id": "03b68a2e",
   "metadata": {},
   "outputs": [],
   "source": [
    "import numpy as np\n",
    "\n",
    "# Given matrix X\n",
    "X = np.array([\n",
    "    [1, 2, 3, 4],\n",
    "    [5, 6, 7, 8],\n",
    "    [9, 10, 11, 12],\n",
    "    [13, 14, 15, 16]\n",
    "])\n",
    "\n",
    "# Show the first element on the first row\n",
    "last_element_last_row = X[-1, -1]\n",
    "\n",
    "print(last_element_last_row)\n"
   ]
  },
  {
   "cell_type": "markdown",
   "id": "3034fdb8",
   "metadata": {},
   "source": [
    "# 11.\tGiven the X numpy matrix, show the first two elements on the first two rows.\n",
    "\n",
    "X = np.array([\n",
    "    [1,   2,  3,  4],\n",
    "    [5,   6,  7,  8],\n",
    "    [9,  10, 11, 12],\n",
    "    [13, 14, 15, 16]\n",
    "])\n"
   ]
  },
  {
   "cell_type": "code",
   "execution_count": null,
   "id": "208142a8",
   "metadata": {},
   "outputs": [],
   "source": [
    "import numpy as np\n",
    "\n",
    "# Given matrix X\n",
    "X = np.array([\n",
    "    [1, 2, 3, 4],\n",
    "    [5, 6, 7, 8],\n",
    "    [9, 10, 11, 12],\n",
    "    [13, 14, 15, 16]\n",
    "])\n",
    "\n",
    "# Show the first two elements on the first two rows\n",
    "first_two_elements_first_two_rows = X[:2, :2]\n",
    "\n",
    "print(first_two_elements_first_two_rows)\n"
   ]
  },
  {
   "cell_type": "markdown",
   "id": "fee5f18a",
   "metadata": {},
   "source": [
    "# 12.\tGiven the X numpy matrix, show the last two elements on the last two rows\n",
    "\n",
    "X = np.array([\n",
    "    [1,   2,  3,  4],\n",
    "    [5,   6,  7,  8],\n",
    "    [9,  10, 11, 12],\n",
    "    [13, 14, 15, 16]\n",
    "])\n"
   ]
  },
  {
   "cell_type": "code",
   "execution_count": null,
   "id": "696b954f",
   "metadata": {},
   "outputs": [],
   "source": [
    "import numpy as np\n",
    "\n",
    "# Given matrix X\n",
    "X = np.array([\n",
    "    [1, 2, 3, 4],\n",
    "    [5, 6, 7, 8],\n",
    "    [9, 10, 11, 12],\n",
    "    [13, 14, 15, 16]\n",
    "])\n",
    "\n",
    "# Show the last two elements on the last two rows\n",
    "last_two_elements_last_two_rows = X[-2:, -2:]\n",
    "\n",
    "print(last_two_elements_last_two_rows)\n"
   ]
  },
  {
   "cell_type": "markdown",
   "id": "5f015467",
   "metadata": {},
   "source": [
    "# Array manipulation"
   ]
  },
  {
   "cell_type": "markdown",
   "id": "6673c6b9",
   "metadata": {},
   "source": [
    "# 1.\tConvert the given integer numpy array to float (you need to google the function that will help you do this)\n",
    "\n",
    "X = [-5, -3, 0, 10, 40]\n",
    "\n"
   ]
  },
  {
   "cell_type": "code",
   "execution_count": null,
   "id": "b1735c46",
   "metadata": {},
   "outputs": [],
   "source": [
    "import numpy as np\n",
    "\n",
    "# Given integer array X\n",
    "X = np.array([-5, -3, 0, 10, 40])\n",
    "\n",
    "# Convert the integer array to float\n",
    "X_float = X.astype(float)\n",
    "\n",
    "print(X_float)\n"
   ]
  },
  {
   "cell_type": "markdown",
   "id": "4c347d9b",
   "metadata": {},
   "source": [
    "# 2.\tReverse the given numpy array (first element becomes last) through indexing\n",
    "\n",
    "X = [-5, -3, 0, 10, 40]\n"
   ]
  },
  {
   "cell_type": "code",
   "execution_count": null,
   "id": "0402f472",
   "metadata": {},
   "outputs": [],
   "source": [
    "import numpy as np\n",
    "\n",
    "# Given array X\n",
    "X = np.array([-5, -3, 0, 10, 40])\n",
    "\n",
    "# Reverse the array using numpy.flip\n",
    "X_reversed = np.flip(X)\n",
    "\n",
    "print(X_reversed)\n"
   ]
  },
  {
   "cell_type": "markdown",
   "id": "b046e67a",
   "metadata": {},
   "source": [
    "# 3.\tGiven the X numpy array, set the fifth element equal to 1\n",
    "\n",
    "X = np.zeros(10)\n",
    "\n"
   ]
  },
  {
   "cell_type": "code",
   "execution_count": null,
   "id": "7d67d354",
   "metadata": {},
   "outputs": [],
   "source": [
    "import numpy as np\n",
    "\n",
    "# Given array X with zeros\n",
    "X = np.zeros(10)\n",
    "\n",
    "# Set the fifth element equal to 1\n",
    "X[4] = 1\n",
    "\n",
    "print(X)\n"
   ]
  },
  {
   "cell_type": "markdown",
   "id": "0b2ea437",
   "metadata": {},
   "source": [
    "# 4.\tGiven the X numpy matrix, change the last row with all 1\n",
    "\n",
    "X = np.array([\n",
    "    [1,   2,  3,  4],\n",
    "    [5,   6,  7,  8],\n",
    "    [9,  10, 11, 12],\n",
    "    [13, 14, 15, 16]\n",
    "])\n",
    "\n"
   ]
  },
  {
   "cell_type": "code",
   "execution_count": null,
   "id": "b5fd6f61",
   "metadata": {},
   "outputs": [],
   "source": [
    "import numpy as np\n",
    "\n",
    "# Given matrix X\n",
    "X = np.array([\n",
    "    [1, 2, 3, 4],\n",
    "    [5, 6, 7, 8],\n",
    "    [9, 10, 11, 12],\n",
    "    [13, 14, 15, 16]\n",
    "])\n",
    "\n",
    "# Change the last row to contain all 1\n",
    "X[-1, :] = 1\n",
    "\n",
    "print(X)\n"
   ]
  },
  {
   "cell_type": "markdown",
   "id": "a9558368",
   "metadata": {},
   "source": [
    "# 5.\tGiven the X numpy matrix, add 5 to every element\n",
    "\n",
    "X = np.array([\n",
    "    [1,   2,  3,  4],\n",
    "    [5,   6,  7,  8],\n",
    "    [9,  10, 11, 12],\n",
    "    [13, 14, 15, 16]\n",
    "])\n"
   ]
  },
  {
   "cell_type": "code",
   "execution_count": null,
   "id": "a8e141b6",
   "metadata": {
    "scrolled": true
   },
   "outputs": [],
   "source": [
    "import numpy as np\n",
    "\n",
    "# Given matrix X\n",
    "X = np.array([\n",
    "    [1, 2, 3, 4],\n",
    "    [5, 6, 7, 8],\n",
    "    [9, 10, 11, 12],\n",
    "    [13, 14, 15, 16]\n",
    "])\n",
    "\n",
    "# Add 5 to every element\n",
    "X += 5\n",
    "\n",
    "print(X)\n"
   ]
  },
  {
   "cell_type": "code",
   "execution_count": null,
   "id": "5a07c0a6",
   "metadata": {},
   "outputs": [],
   "source": []
  }
 ],
 "metadata": {
  "kernelspec": {
   "display_name": "Python 3 (ipykernel)",
   "language": "python",
   "name": "python3"
  },
  "language_info": {
   "codemirror_mode": {
    "name": "ipython",
    "version": 3
   },
   "file_extension": ".py",
   "mimetype": "text/x-python",
   "name": "python",
   "nbconvert_exporter": "python",
   "pygments_lexer": "ipython3",
   "version": "3.11.5"
  }
 },
 "nbformat": 4,
 "nbformat_minor": 5
}
